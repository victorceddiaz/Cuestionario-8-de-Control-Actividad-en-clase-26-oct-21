{
  "nbformat": 4,
  "nbformat_minor": 0,
  "metadata": {
    "colab": {
      "name": "ListasLigadasADT1310.ipynb",
      "provenance": [],
      "collapsed_sections": [],
      "authorship_tag": "ABX9TyOMVQIDY6+kSkRNU1utRtpT",
      "include_colab_link": true
    },
    "kernelspec": {
      "name": "python3",
      "display_name": "Python 3"
    },
    "language_info": {
      "name": "python"
    }
  },
  "cells": [
    {
      "cell_type": "markdown",
      "metadata": {
        "id": "view-in-github",
        "colab_type": "text"
      },
      "source": [
        "<a href=\"https://colab.research.google.com/github/victorceddiaz/Cuestionario-8-de-Control-Actividad-en-clase-26-oct-21/blob/main/ListasLigadasADT1310.ipynb\" target=\"_parent\"><img src=\"https://colab.research.google.com/assets/colab-badge.svg\" alt=\"Open In Colab\"/></a>"
      ]
    },
    {
      "cell_type": "markdown",
      "metadata": {
        "id": "wFNJxPk-0ph3"
      },
      "source": [
        "# Ejercicios con la clase Nodo\n",
        "\n",
        "- Crear un nodo 10\n",
        "    - Imprimir el valor del nodo\n",
        "- Crear dos nodos 10, 20\n",
        "    - Imprimir el valor del primero\n",
        "    - Imprimir el valor del segundo\n",
        "    - Transversal\n",
        "- Crear dos nodos 10, 20, 30, 40\n",
        "    - Imprimir el valor del primero\n",
        "    - Imprimir el valor del ultimo\n",
        "    - Transversal\n",
        "    - Insertar nodos\n"
      ]
    },
    {
      "cell_type": "code",
      "metadata": {
        "id": "PRqjbsTX0axQ"
      },
      "source": [
        "class Nodo :\n",
        "    def __init__(self, value, siguiente = None) :\n",
        "        self.data = value\n",
        "        self.next = siguiente"
      ],
      "execution_count": 1,
      "outputs": []
    },
    {
      "cell_type": "code",
      "metadata": {
        "colab": {
          "base_uri": "https://localhost:8080/"
        },
        "id": "ZyPOPJdi1t2M",
        "outputId": "1011699d-e0b8-4d85-c692-25d6ee1d4107"
      },
      "source": [
        "head = Nodo(10)\n",
        "print(head.data)"
      ],
      "execution_count": null,
      "outputs": [
        {
          "output_type": "stream",
          "name": "stdout",
          "text": [
            "10\n"
          ]
        }
      ]
    },
    {
      "cell_type": "code",
      "metadata": {
        "colab": {
          "base_uri": "https://localhost:8080/"
        },
        "id": "_nIaJ1YL2e-U",
        "outputId": "fe7a20dc-b128-4763-efa1-c3b964b83ca8"
      },
      "source": [
        "head= Nodo(10)\n",
        "head.next = Nodo(20)\n",
        "print(f'Primero = {head.data}')\n",
        "print(f'Segundo = {head.next.data}')\n",
        "\n",
        "print(\"\")\n",
        "head=Nodo(10, Nodo(20))\n",
        "print(f'Primero = {head.data}')\n",
        "print(f'Segundo = {head.next.data}')\n",
        "\n",
        "#transversal\n",
        "curr_node=head\n",
        "while curr_node != None :\n",
        "    print(f'| {curr_node.data} | -->', end=\"\")\n",
        "    curr_node=curr_node.next"
      ],
      "execution_count": 2,
      "outputs": [
        {
          "output_type": "stream",
          "name": "stdout",
          "text": [
            "Primero = 10\n",
            "Segundo = 20\n",
            "\n",
            "Primero = 10\n",
            "Segundo = 20\n",
            "| 10 | -->| 20 | -->"
          ]
        }
      ]
    },
    {
      "cell_type": "code",
      "metadata": {
        "colab": {
          "base_uri": "https://localhost:8080/"
        },
        "id": "p-J30tix6524",
        "outputId": "53d92eb5-7ac9-4e44-eb86-51d7ea07fb36"
      },
      "source": [
        "head = Nodo(10, Nodo(20, Nodo (30, Nodo(40))))\n",
        "curr_node=head\n",
        "while curr_node != None :\n",
        "    print(f'| {curr_node.data} | -->', end=\"\")\n",
        "    curr_node=curr_node.next\n",
        "\n",
        "print(\"\\n\")\n",
        "#imprimit el primero\n",
        "print(head.data)\n",
        "#imprimir el ultimo\n",
        "curr_node=head\n",
        "while curr_node.next != None:\n",
        "    curr_node=curr_node.next\n",
        "print(curr_node.data)\n",
        "\n",
        "#insertar nodo 25\n",
        "print(\"\")\n",
        "curr_node=head\n",
        "while curr_node.data != 20 :\n",
        "    curr_node=curr_node.next\n",
        "print(curr_node.data)\n",
        "\n",
        "#crear el nodo 25\n",
        "curr_node.next=Nodo(25, curr_node.next)\n",
        "\n",
        "print(\"\")\n",
        "curr_node=head \n",
        "while curr_node != None :\n",
        "    print(f'| {curr_node.data} | -->', end=\"\")\n",
        "    curr_node=curr_node.next"
      ],
      "execution_count": 54,
      "outputs": [
        {
          "output_type": "stream",
          "name": "stdout",
          "text": [
            "| 10 | -->| 20 | -->| 30 | -->| 40 | -->\n",
            "\n",
            "10\n",
            "40\n",
            "\n",
            "20\n",
            "\n",
            "| 10 | -->| 20 | -->| 25 | -->| 30 | -->| 40 | -->"
          ]
        }
      ]
    },
    {
      "cell_type": "code",
      "metadata": {
        "id": "895XnltOc64g"
      },
      "source": [
        "class LinkedList :\n",
        "    def __init__(self) :\n",
        "        self.head = None\n",
        "\n",
        "    def is_empty(self) :\n",
        "        return self.head == None\n",
        "\n",
        "    def get_tail(self) :\n",
        "        if self.is_empty() :\n",
        "            return None\n",
        "        else : \n",
        "            curr_node=self.head\n",
        "            while curr_node.next != None:\n",
        "                curr_node=curr_node.next\n",
        "            return curr_node\n",
        "\n",
        "    def append(self, value) : \n",
        "        if self.head == None :\n",
        "            self.head = Nodo(value)\n",
        "        else :\n",
        "            curr_node=self.head\n",
        "            while curr_node.next != None:\n",
        "                curr_node=curr_node.next    \n",
        "            curr_node.next = Nodo(value)\n",
        "\n",
        "    def prepend(self, value) :\n",
        "        if self.head == None :\n",
        "            print(\"Lista vacía, no se puede hacer prepend.\")\n",
        "        else :\n",
        "            self.head= Nodo(value, self.head)\n",
        "    \n",
        "    def transversal(self) : \n",
        "        curr_node=self.head\n",
        "        while curr_node != None :\n",
        "            print(f'| {curr_node.data} | -->', end=\"\")\n",
        "            curr_node = curr_node.next\n",
        "        print(\"\")\n",
        "\n",
        "    def remove(self, value) :\n",
        "        if self.head == None :\n",
        "            print(\"Lista vacía, no se puede remover nada.\")\n",
        "        else :\n",
        "            curr_node=self.head\n",
        "            aux = None\n",
        "            while curr_node.data != value :\n",
        "                aux= curr_node\n",
        "                curr_node=curr_node.next\n",
        "\n",
        "            if curr_node != None :\n",
        "                aux.next = curr_node.next\n",
        "                curr_node = None\n",
        "\n",
        "\n"
      ],
      "execution_count": 52,
      "outputs": []
    },
    {
      "cell_type": "code",
      "metadata": {
        "colab": {
          "base_uri": "https://localhost:8080/"
        },
        "id": "38KrdeIKfcWm",
        "outputId": "f059c50c-8eec-4b92-9aed-db50af857b4d"
      },
      "source": [
        "lista= LinkedList()\n",
        "if lista.is_empty() :\n",
        "    print(\"Lista vacía\")\n",
        "else :\n",
        "    print(\"Lista no vacía\")\n",
        "\n",
        "print(\"\")\n",
        "lista.append(10)\n",
        "lista.append(20)\n",
        "lista.append(30)\n",
        "lista.append(40)\n",
        "lista.append(50)\n",
        "\n",
        "nodo=lista.get_tail()\n",
        "if nodo != None :\n",
        "    print(nodo.data)\n",
        "else :\n",
        "    print(\"Lista vacía\")\n",
        "\n",
        "print(\"\")\n",
        "lista.transversal()\n",
        "\n",
        "print(\"\")\n",
        "lista.remove(30)\n",
        "lista.transversal()\n",
        "\n",
        "print(\"\")\n",
        "lista.prepend(5)\n",
        "lista.transversal()"
      ],
      "execution_count": 53,
      "outputs": [
        {
          "output_type": "stream",
          "name": "stdout",
          "text": [
            "Lista vacía\n",
            "\n",
            "50\n",
            "\n",
            "| 10 | -->| 20 | -->| 30 | -->| 40 | -->| 50 | -->\n",
            "\n",
            "| 10 | -->| 20 | -->| 40 | -->| 50 | -->\n",
            "\n",
            "| 5 | -->| 10 | -->| 20 | -->| 40 | -->| 50 | -->\n"
          ]
        }
      ]
    }
  ]
}